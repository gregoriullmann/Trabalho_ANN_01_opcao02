{
  "nbformat": 4,
  "nbformat_minor": 0,
  "metadata": {
    "kernelspec": {
      "display_name": "Python 3",
      "language": "python",
      "name": "python3"
    },
    "language_info": {
      "codemirror_mode": {
        "name": "ipython",
        "version": 3
      },
      "file_extension": ".py",
      "mimetype": "text/x-python",
      "name": "python",
      "nbconvert_exporter": "python",
      "pygments_lexer": "ipython3",
      "version": "3.5.4"
    },
    "colab": {
      "name": "Trabalho_ANN_01_Greg_op2.ipynb",
      "provenance": [],
      "collapsed_sections": [],
      "toc_visible": true,
      "include_colab_link": true
    }
  },
  "cells": [
    {
      "cell_type": "markdown",
      "metadata": {
        "id": "view-in-github",
        "colab_type": "text"
      },
      "source": [
        "<a href=\"https://colab.research.google.com/github/gregoriullmann/Trabalho_ANN_01_opcao02/blob/main/Trabalho_ANN_01_Greg_op2.ipynb\" target=\"_parent\"><img src=\"https://colab.research.google.com/assets/colab-badge.svg\" alt=\"Open In Colab\"/></a>"
      ]
    },
    {
      "cell_type": "code",
      "metadata": {
        "id": "cF6kzanWQZgh"
      },
      "source": [
        "# bibliotecas usadas\n",
        "import os\n",
        "import numpy as np\n",
        "import pandas as pd\n",
        "import matplotlib.pyplot as plt\n",
        "from sklearn.neural_network import MLPRegressor\n",
        "from sklearn.metrics import mean_squared_error\n",
        "from sklearn.metrics import r2_score \n"
      ],
      "execution_count": 47,
      "outputs": []
    },
    {
      "cell_type": "code",
      "metadata": {
        "id": "UW1APYrFQZgl"
      },
      "source": [
        "# para gerar o grafico no browser\n",
        "%matplotlib inline"
      ],
      "execution_count": 48,
      "outputs": []
    },
    {
      "cell_type": "code",
      "metadata": {
        "id": "97dzq_Av8cll",
        "outputId": "9e1c9af6-948c-46fc-8c28-79659b7bd56a",
        "colab": {
          "base_uri": "https://localhost:8080/"
        }
      },
      "source": [
        "# local dos dados \n",
        "!git clone https://github.com/gregoriullmann/Trabalho_ANN_01_opcao02\n",
        "%cd Trabalho_ANN_01_opcao02\n"
      ],
      "execution_count": 49,
      "outputs": [
        {
          "output_type": "stream",
          "text": [
            "Cloning into 'Trabalho_ANN_01_opcao02'...\n",
            "remote: Enumerating objects: 8, done.\u001b[K\n",
            "remote: Counting objects: 100% (8/8), done.\u001b[K\n",
            "remote: Compressing objects: 100% (6/6), done.\u001b[K\n",
            "remote: Total 8 (delta 0), reused 0 (delta 0), pack-reused 0\u001b[K\n",
            "Unpacking objects: 100% (8/8), done.\n",
            "/content/Trabalho_ANN_01_opcao02/Trabalho_ANN_01_opcao02/Trabalho_ANN_01_opcao02\n"
          ],
          "name": "stdout"
        }
      ]
    },
    {
      "cell_type": "code",
      "metadata": {
        "id": "0dySLmFh-Ln2"
      },
      "source": [
        "#from google.colab import drive\n",
        "#drive.mount(\"/content/drive\")\n",
        "#%cd /content/drive/My Drive/ANN/Trabalho_01/opcao_02\n",
        "#%ls"
      ],
      "execution_count": 50,
      "outputs": []
    },
    {
      "cell_type": "code",
      "metadata": {
        "id": "poo2kvF6QZgo",
        "colab": {
          "base_uri": "https://localhost:8080/"
        },
        "outputId": "f5d6fd0f-143e-45cb-c919-b569636869f0"
      },
      "source": [
        "# leitura dos dados\n",
        "DAT=pd.read_csv(\"dados.CSV\", sep=';')\n",
        "print(DAT)\n"
      ],
      "execution_count": 51,
      "outputs": [
        {
          "output_type": "stream",
          "text": [
            "      Gly    Cat    Pt  pH  Yhidro\n",
            "0    0.50  2.525  2.51   2     144\n",
            "1    0.50  2.525  0.02   7     124\n",
            "2    0.50  0.050  2.51   7      28\n",
            "3    0.50  5.000  2.51   7     211\n",
            "4    0.50  2.525  5.00   7     182\n",
            "5    0.50  2.525  2.51  12      57\n",
            "6   25.25  2.525  0.02   2     103\n",
            "7   25.25  0.050  2.51   2      25\n",
            "8   25.25  5.000  2.51   2     269\n",
            "9   25.25  2.525  5.00   2     230\n",
            "10  25.25  0.050  0.02   7      28\n",
            "11  25.25  5.000  0.02   7     145\n",
            "12  25.25  2.525  2.51   7     255\n",
            "13  25.25  2.525  2.51   7     247\n",
            "14  25.25  2.525  2.51   7     253\n",
            "15  25.25  2.525  2.51   7     237\n",
            "16  25.25  2.525  2.51   7     243\n",
            "17  25.25  0.050  5.00   7      56\n",
            "18  25.25  5.000  5.00   7     243\n",
            "19  25.25  2.525  0.02  12      75\n",
            "20  25.25  0.050  2.51  12      14\n",
            "21  25.25  5.000  2.51  12     132\n",
            "22  25.25  2.525  5.00   1     122\n",
            "23  50.00  2.525  2.51   2     255\n",
            "24  50.00  2.525  0.02   7     121\n",
            "25  50.00  0.050  2.51   7      44\n",
            "26  50.00  5.000  2.51   7     263\n",
            "27  50.00  2.525  5.00   7     272\n",
            "28  50.00  2.525  2.51  12     105\n"
          ],
          "name": "stdout"
        }
      ]
    },
    {
      "cell_type": "code",
      "metadata": {
        "id": "fwitNT_tQZgo"
      },
      "source": [
        "# separa as colunas de interesse, nao eh tao necessario aqui pois uso a tabela toda, poderia ter usado o DAT sem problemas\n",
        "Index=[0,1,2,3,4]\n",
        "Dat_Select=[]\n",
        "Dat_Select=DAT.iloc[:,Index].copy()\n",
        "#print(Dat_Select)"
      ],
      "execution_count": 52,
      "outputs": []
    },
    {
      "cell_type": "code",
      "metadata": {
        "id": "l5_lY9_wQZgp"
      },
      "source": [
        "# funcao normatiza dados (no meu caso sera a codificacao em -1, 0, 1)\n",
        "def Normatiza(x):\n",
        "    strings=list(x)\n",
        "    for i in strings:\n",
        "        max_x=x[i].max()\n",
        "        min_x=x[i].min()\n",
        "        a=min_x\n",
        "        b=max_x\n",
        "        x[i]=(x[i]-a)/(b-a)\n",
        "    return x"
      ],
      "execution_count": 53,
      "outputs": []
    },
    {
      "cell_type": "code",
      "metadata": {
        "id": "rwt3mObvQZgq"
      },
      "source": [
        "# funcao retorna os dados a forma original\n",
        "def Original(x,x_old):\n",
        "    strings=list(x)\n",
        "    for i in strings:\n",
        "        max_x=x_old[i].max()\n",
        "        min_x=x_old[i].min()\n",
        "        a=min_x\n",
        "        b=max_x\n",
        "        x[i]=x[i]*(b-a)+a\n",
        "    return x"
      ],
      "execution_count": 54,
      "outputs": []
    },
    {
      "cell_type": "code",
      "metadata": {
        "id": "FEvCqRGUQZgr"
      },
      "source": [
        "# separa os dados em normatizados e originais\n",
        "DAT_OLD=[]\n",
        "DAT_OLD=Dat_Select.copy()\n",
        "DAT=Normatiza(Dat_Select)"
      ],
      "execution_count": 55,
      "outputs": []
    },
    {
      "cell_type": "code",
      "metadata": {
        "id": "ko4Xo7pvQZgr",
        "colab": {
          "base_uri": "https://localhost:8080/"
        },
        "outputId": "19c9de33-8c14-488e-b0da-e4ea2c99ae6f"
      },
      "source": [
        "# separa os dados em treino e teste\n",
        "train=DAT.sample(frac=0.8,random_state=None) # poderia ser frac=0.5? sim ou nao?\n",
        "test=DAT.drop(train.index)\n",
        "print(DAT)"
      ],
      "execution_count": 56,
      "outputs": [
        {
          "output_type": "stream",
          "text": [
            "    Gly  Cat   Pt        pH    Yhidro\n",
            "0   0.0  0.5  0.5  0.090909  0.503876\n",
            "1   0.0  0.5  0.0  0.545455  0.426357\n",
            "2   0.0  0.0  0.5  0.545455  0.054264\n",
            "3   0.0  1.0  0.5  0.545455  0.763566\n",
            "4   0.0  0.5  1.0  0.545455  0.651163\n",
            "5   0.0  0.5  0.5  1.000000  0.166667\n",
            "6   0.5  0.5  0.0  0.090909  0.344961\n",
            "7   0.5  0.0  0.5  0.090909  0.042636\n",
            "8   0.5  1.0  0.5  0.090909  0.988372\n",
            "9   0.5  0.5  1.0  0.090909  0.837209\n",
            "10  0.5  0.0  0.0  0.545455  0.054264\n",
            "11  0.5  1.0  0.0  0.545455  0.507752\n",
            "12  0.5  0.5  0.5  0.545455  0.934109\n",
            "13  0.5  0.5  0.5  0.545455  0.903101\n",
            "14  0.5  0.5  0.5  0.545455  0.926357\n",
            "15  0.5  0.5  0.5  0.545455  0.864341\n",
            "16  0.5  0.5  0.5  0.545455  0.887597\n",
            "17  0.5  0.0  1.0  0.545455  0.162791\n",
            "18  0.5  1.0  1.0  0.545455  0.887597\n",
            "19  0.5  0.5  0.0  1.000000  0.236434\n",
            "20  0.5  0.0  0.5  1.000000  0.000000\n",
            "21  0.5  1.0  0.5  1.000000  0.457364\n",
            "22  0.5  0.5  1.0  0.000000  0.418605\n",
            "23  1.0  0.5  0.5  0.090909  0.934109\n",
            "24  1.0  0.5  0.0  0.545455  0.414729\n",
            "25  1.0  0.0  0.5  0.545455  0.116279\n",
            "26  1.0  1.0  0.5  0.545455  0.965116\n",
            "27  1.0  0.5  1.0  0.545455  1.000000\n",
            "28  1.0  0.5  0.5  1.000000  0.352713\n"
          ],
          "name": "stdout"
        }
      ]
    },
    {
      "cell_type": "code",
      "metadata": {
        "id": "02ArvMOIQZgs",
        "colab": {
          "base_uri": "https://localhost:8080/"
        },
        "outputId": "9b79a884-7c59-47bc-898e-466e35c36098"
      },
      "source": [
        "# obtem as variaveis independentes (treino e teste)\n",
        "x_train=train.iloc[:,[0,1,2,3]]\n",
        "x_test=test.iloc[:,[0,1,2,3]]\n",
        "X_OLD=DAT_OLD.iloc[:,[0,1,2,3]]\n",
        "print(x_train)"
      ],
      "execution_count": 57,
      "outputs": [
        {
          "output_type": "stream",
          "text": [
            "    Gly  Cat   Pt        pH\n",
            "18  0.5  1.0  1.0  0.545455\n",
            "14  0.5  0.5  0.5  0.545455\n",
            "0   0.0  0.5  0.5  0.090909\n",
            "16  0.5  0.5  0.5  0.545455\n",
            "6   0.5  0.5  0.0  0.090909\n",
            "13  0.5  0.5  0.5  0.545455\n",
            "10  0.5  0.0  0.0  0.545455\n",
            "28  1.0  0.5  0.5  1.000000\n",
            "20  0.5  0.0  0.5  1.000000\n",
            "17  0.5  0.0  1.0  0.545455\n",
            "3   0.0  1.0  0.5  0.545455\n",
            "4   0.0  0.5  1.0  0.545455\n",
            "19  0.5  0.5  0.0  1.000000\n",
            "1   0.0  0.5  0.0  0.545455\n",
            "22  0.5  0.5  1.0  0.000000\n",
            "27  1.0  0.5  1.0  0.545455\n",
            "23  1.0  0.5  0.5  0.090909\n",
            "24  1.0  0.5  0.0  0.545455\n",
            "7   0.5  0.0  0.5  0.090909\n",
            "15  0.5  0.5  0.5  0.545455\n",
            "12  0.5  0.5  0.5  0.545455\n",
            "2   0.0  0.0  0.5  0.545455\n",
            "9   0.5  0.5  1.0  0.090909\n"
          ],
          "name": "stdout"
        }
      ]
    },
    {
      "cell_type": "code",
      "metadata": {
        "id": "QQQyRXq4QZgs",
        "colab": {
          "base_uri": "https://localhost:8080/"
        },
        "outputId": "225d5d57-4480-4682-b633-a6d6e3a155cc"
      },
      "source": [
        "# obtem as variaveis dependentes (treino e teste)\n",
        "y_train=train.iloc[:,[4]]\n",
        "y_test=test.iloc[:,[4]]\n",
        "Y_OLD=DAT_OLD.iloc[:,[4]]\n",
        "print(y_train)"
      ],
      "execution_count": 58,
      "outputs": [
        {
          "output_type": "stream",
          "text": [
            "      Yhidro\n",
            "18  0.887597\n",
            "14  0.926357\n",
            "0   0.503876\n",
            "16  0.887597\n",
            "6   0.344961\n",
            "13  0.903101\n",
            "10  0.054264\n",
            "28  0.352713\n",
            "20  0.000000\n",
            "17  0.162791\n",
            "3   0.763566\n",
            "4   0.651163\n",
            "19  0.236434\n",
            "1   0.426357\n",
            "22  0.418605\n",
            "27  1.000000\n",
            "23  0.934109\n",
            "24  0.414729\n",
            "7   0.042636\n",
            "15  0.864341\n",
            "12  0.934109\n",
            "2   0.054264\n",
            "9   0.837209\n"
          ],
          "name": "stdout"
        }
      ]
    },
    {
      "cell_type": "code",
      "metadata": {
        "id": "BpNn_IogQZgt"
      },
      "source": [
        "# define a rede neural \n",
        "clf = MLPRegressor(solver='lbfgs',activation='logistic',alpha=0.000001,hidden_layer_sizes=(4,), max_iter = 1000000, warm_start = True, early_stopping = True, validation_fraction = 0.05, max_fun = 1000000)\n",
        "#no artigo usado como base foi utilizada uma funcao de ativacao hyperbolic tangent sigmoid function e duas funcoes lineares para os outputs"
      ],
      "execution_count": 59,
      "outputs": []
    },
    {
      "cell_type": "code",
      "metadata": {
        "id": "Y8BteMytQZgu",
        "colab": {
          "base_uri": "https://localhost:8080/"
        },
        "outputId": "c5f01602-a84d-4815-cea4-e9e8c1599c15"
      },
      "source": [
        "# treina a rede neural\n",
        "clf.fit(x_train, y_train)\n"
      ],
      "execution_count": 60,
      "outputs": [
        {
          "output_type": "stream",
          "text": [
            "/usr/local/lib/python3.7/dist-packages/sklearn/neural_network/_multilayer_perceptron.py:1342: DataConversionWarning: A column-vector y was passed when a 1d array was expected. Please change the shape of y to (n_samples, ), for example using ravel().\n",
            "  y = column_or_1d(y, warn=True)\n"
          ],
          "name": "stderr"
        },
        {
          "output_type": "execute_result",
          "data": {
            "text/plain": [
              "MLPRegressor(activation='logistic', alpha=1e-06, batch_size='auto', beta_1=0.9,\n",
              "             beta_2=0.999, early_stopping=True, epsilon=1e-08,\n",
              "             hidden_layer_sizes=(4,), learning_rate='constant',\n",
              "             learning_rate_init=0.001, max_fun=1000000, max_iter=1000000,\n",
              "             momentum=0.9, n_iter_no_change=10, nesterovs_momentum=True,\n",
              "             power_t=0.5, random_state=None, shuffle=True, solver='lbfgs',\n",
              "             tol=0.0001, validation_fraction=0.05, verbose=False,\n",
              "             warm_start=True)"
            ]
          },
          "metadata": {
            "tags": []
          },
          "execution_count": 60
        }
      ]
    },
    {
      "cell_type": "code",
      "metadata": {
        "id": "smaQ8uSGQZgv"
      },
      "source": [
        "# usa a rede neural treina em calculos para treino e teste\n",
        "y_calc_train=clf.predict(x_train)\n",
        "y_calc_test=clf.predict(x_test)"
      ],
      "execution_count": 61,
      "outputs": []
    },
    {
      "cell_type": "code",
      "metadata": {
        "id": "goF4lWLlQZgv"
      },
      "source": [
        "# transforma a saida da rede em dataframe \n",
        "y_calc_train=pd.DataFrame(y_calc_train)\n",
        "y_calc_test=pd.DataFrame(y_calc_test)\n",
        "col_names=list(y_train)\n",
        "y_calc_train.columns = col_names\n",
        "y_calc_test.columns = col_names"
      ],
      "execution_count": 62,
      "outputs": []
    },
    {
      "cell_type": "code",
      "metadata": {
        "id": "aVJXbUosQZgw"
      },
      "source": [
        "# transforma dos dados calculados na forma original (nao normatizado)\n",
        "y_calc_train=Original(y_calc_train,Y_OLD)\n",
        "y_calc_test=Original(y_calc_test,Y_OLD)"
      ],
      "execution_count": 63,
      "outputs": []
    },
    {
      "cell_type": "code",
      "metadata": {
        "id": "RwacCDHpQZgx"
      },
      "source": [
        "# recupera os dados originais \n",
        "test=[]\n",
        "train=[]\n",
        "train=Original(y_train,Y_OLD)\n",
        "test=Original(y_test,Y_OLD)"
      ],
      "execution_count": 64,
      "outputs": []
    },
    {
      "cell_type": "code",
      "metadata": {
        "id": "R7063DtLQZgx"
      },
      "source": [
        "# escolhe uma das resposta para fazer o grafico (efficiency-treino)\n",
        "Yhidro_obs_train=[]\n",
        "Yhidro_calc_train=[]\n",
        "Yhidro_calc_train=y_calc_train['Yhidro'].copy()\n",
        "Yhidro_obs_train=train['Yhidro'].copy()"
      ],
      "execution_count": 65,
      "outputs": []
    },
    {
      "cell_type": "code",
      "metadata": {
        "id": "TDa9JkZjQZgy"
      },
      "source": [
        "# escolhe uma das respostas para fazer o grafico (efficiency-teste)\n",
        "Yhidro_obs_test=[]\n",
        "Yhidro_calc_test=[]\n",
        "Yhidro_calc_test=y_calc_test['Yhidro'].copy()\n",
        "Yhidro_obs_test=test['Yhidro'].copy()"
      ],
      "execution_count": 66,
      "outputs": []
    },
    {
      "cell_type": "code",
      "metadata": {
        "id": "RZrkRZ3GQZgz",
        "colab": {
          "base_uri": "https://localhost:8080/",
          "height": 279
        },
        "outputId": "898508e7-6152-48ed-bc0e-36f927239c45"
      },
      "source": [
        "# expressa os dois dados em figura\n",
        "fig = plt.figure()\n",
        "ax1 = fig.add_subplot(111)\n",
        "\n",
        "ax1.scatter(Yhidro_obs_test,Yhidro_calc_test, s=10, c='b', marker=\"s\", label='teste')\n",
        "ax1.scatter(Yhidro_obs_train,Yhidro_calc_train, s=10, c='r', marker=\"o\", label='treino')\n",
        "plt.legend(loc='upper left')\n",
        "plt.ylabel('Yhidro Calc')\n",
        "plt.xlabel('Yhidro Obs')\n",
        "plt.show()"
      ],
      "execution_count": 67,
      "outputs": [
        {
          "output_type": "display_data",
          "data": {
            "image/png": "[encoded data removed]",
            "text/plain": [
              "<Figure size 432x288 with 1 Axes>"
            ]
          },
          "metadata": {
            "tags": [],
            "needs_background": "light"
          }
        }
      ]
    },
    {
      "cell_type": "code",
      "metadata": {
        "id": "aj_XteG2QZg0",
        "colab": {
          "base_uri": "https://localhost:8080/"
        },
        "outputId": "1c950fbc-7b13-4f6a-8388-60b7014504dc"
      },
      "source": [
        "mse=mean_squared_error(Yhidro_obs_test,Yhidro_calc_test)\n",
        "print(\"MSE teste=\",mse)\n",
        "R2=r2_score(Yhidro_obs_test,Yhidro_calc_test)\n",
        "print(\"R^2 teste=\",R2)"
      ],
      "execution_count": 68,
      "outputs": [
        {
          "output_type": "stream",
          "text": [
            "MSE teste= 45164.532146332494\n",
            "R^2 teste= -4.747667444139541\n"
          ],
          "name": "stdout"
        }
      ]
    },
    {
      "cell_type": "code",
      "metadata": {
        "id": "efLwFnUqQZg1",
        "colab": {
          "base_uri": "https://localhost:8080/"
        },
        "outputId": "bb632941-7997-4d0a-ec80-2fcbd3b919d4"
      },
      "source": [
        "mse=mean_squared_error(Yhidro_obs_train,Yhidro_calc_train)\n",
        "print(\"MSE treino=\",mse)\n",
        "R2=r2_score(Yhidro_obs_train,Yhidro_calc_train)\n",
        "print(\"R^2 treino=\",R2)"
      ],
      "execution_count": 69,
      "outputs": [
        {
          "output_type": "stream",
          "text": [
            "MSE treino= 10.873952172971292\n",
            "R^2 treino= 0.9985888121268296\n"
          ],
          "name": "stdout"
        }
      ]
    }
  ]
}